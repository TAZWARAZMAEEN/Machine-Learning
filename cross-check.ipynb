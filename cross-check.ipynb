{
  "cells": [
    {
      "cell_type": "code",
      "execution_count": 54,
      "metadata": {
        "id": "KeYaJKIVzujb"
      },
      "outputs": [],
      "source": [
        "import os\n",
        "import numpy as np\n",
        "import pandas as pd\n",
        "import matplotlib.pyplot as plt\n",
        "import seaborn as sns\n",
        "from PIL import Image\n",
        "from sklearn.preprocessing import LabelEncoder\n",
        "from sklearn.model_selection import train_test_split\n",
        "from tensorflow.keras.utils import to_categorical\n",
        "from zipfile import ZipFile\n",
        "import cv2"
      ]
    },
    {
      "cell_type": "code",
      "execution_count": 55,
      "metadata": {
        "id": "FtHM6_V63paf"
      },
      "outputs": [],
      "source": [
        "with ZipFile(r'Machine-Learning\\Image_classification_data.zip', 'r') as zipobj:\n",
        "    zipobj.extractall('colon_data')\n"
      ]
    },
    {
      "cell_type": "code",
      "execution_count": 56,
      "metadata": {
        "colab": {
          "base_uri": "https://localhost:8080/"
        },
        "id": "3sO0CrX_0Df1",
        "outputId": "db7004e0-ec55-49fa-df69-ca2607eef023"
      },
      "outputs": [
        {
          "name": "stdout",
          "output_type": "stream",
          "text": [
            "['data_labels_extraData.csv', 'data_labels_mainData.csv', 'patch_images', '__MACOSX']\n"
          ]
        }
      ],
      "source": [
        "image_dir = 'colon_data'\n",
        "print(os.listdir(image_dir))"
      ]
    },
    {
      "cell_type": "code",
      "execution_count": 57,
      "metadata": {
        "id": "yQ1GmLbW1mXJ"
      },
      "outputs": [],
      "source": [
        "#Loading CSV\n",
        "df2 = pd.read_csv('colon_data/data_labels_mainData.csv')\n",
        "df1 = pd.read_csv('colon_data/data_labels_extraData.csv')"
      ]
    },
    {
      "cell_type": "code",
      "execution_count": 58,
      "metadata": {
        "colab": {
          "base_uri": "https://localhost:8080/",
          "height": 206
        },
        "id": "FFEBbYXL4oBw",
        "outputId": "0b1c41e8-37c1-48b0-ff43-3c7806ce57a2"
      },
      "outputs": [
        {
          "data": {
            "text/html": [
              "<div>\n",
              "<style scoped>\n",
              "    .dataframe tbody tr th:only-of-type {\n",
              "        vertical-align: middle;\n",
              "    }\n",
              "\n",
              "    .dataframe tbody tr th {\n",
              "        vertical-align: top;\n",
              "    }\n",
              "\n",
              "    .dataframe thead th {\n",
              "        text-align: right;\n",
              "    }\n",
              "</style>\n",
              "<table border=\"1\" class=\"dataframe\">\n",
              "  <thead>\n",
              "    <tr style=\"text-align: right;\">\n",
              "      <th></th>\n",
              "      <th>InstanceID</th>\n",
              "      <th>patientID</th>\n",
              "      <th>ImageName</th>\n",
              "      <th>cellTypeName</th>\n",
              "      <th>cellType</th>\n",
              "      <th>isCancerous</th>\n",
              "    </tr>\n",
              "  </thead>\n",
              "  <tbody>\n",
              "    <tr>\n",
              "      <th>0</th>\n",
              "      <td>22405</td>\n",
              "      <td>1</td>\n",
              "      <td>22405.png</td>\n",
              "      <td>fibroblast</td>\n",
              "      <td>0</td>\n",
              "      <td>0</td>\n",
              "    </tr>\n",
              "    <tr>\n",
              "      <th>1</th>\n",
              "      <td>22406</td>\n",
              "      <td>1</td>\n",
              "      <td>22406.png</td>\n",
              "      <td>fibroblast</td>\n",
              "      <td>0</td>\n",
              "      <td>0</td>\n",
              "    </tr>\n",
              "    <tr>\n",
              "      <th>2</th>\n",
              "      <td>22407</td>\n",
              "      <td>1</td>\n",
              "      <td>22407.png</td>\n",
              "      <td>fibroblast</td>\n",
              "      <td>0</td>\n",
              "      <td>0</td>\n",
              "    </tr>\n",
              "    <tr>\n",
              "      <th>3</th>\n",
              "      <td>22408</td>\n",
              "      <td>1</td>\n",
              "      <td>22408.png</td>\n",
              "      <td>fibroblast</td>\n",
              "      <td>0</td>\n",
              "      <td>0</td>\n",
              "    </tr>\n",
              "    <tr>\n",
              "      <th>4</th>\n",
              "      <td>22409</td>\n",
              "      <td>1</td>\n",
              "      <td>22409.png</td>\n",
              "      <td>fibroblast</td>\n",
              "      <td>0</td>\n",
              "      <td>0</td>\n",
              "    </tr>\n",
              "  </tbody>\n",
              "</table>\n",
              "</div>"
            ],
            "text/plain": [
              "   InstanceID  patientID  ImageName cellTypeName  cellType  isCancerous\n",
              "0       22405          1  22405.png   fibroblast         0            0\n",
              "1       22406          1  22406.png   fibroblast         0            0\n",
              "2       22407          1  22407.png   fibroblast         0            0\n",
              "3       22408          1  22408.png   fibroblast         0            0\n",
              "4       22409          1  22409.png   fibroblast         0            0"
            ]
          },
          "execution_count": 58,
          "metadata": {},
          "output_type": "execute_result"
        }
      ],
      "source": [
        "df2.head()"
      ]
    },
    {
      "cell_type": "code",
      "execution_count": 59,
      "metadata": {
        "colab": {
          "base_uri": "https://localhost:8080/",
          "height": 206
        },
        "id": "72IObsrh5Tp2",
        "outputId": "ff5af003-043d-44ea-8a2d-67b3b7c53731"
      },
      "outputs": [
        {
          "data": {
            "text/html": [
              "<div>\n",
              "<style scoped>\n",
              "    .dataframe tbody tr th:only-of-type {\n",
              "        vertical-align: middle;\n",
              "    }\n",
              "\n",
              "    .dataframe tbody tr th {\n",
              "        vertical-align: top;\n",
              "    }\n",
              "\n",
              "    .dataframe thead th {\n",
              "        text-align: right;\n",
              "    }\n",
              "</style>\n",
              "<table border=\"1\" class=\"dataframe\">\n",
              "  <thead>\n",
              "    <tr style=\"text-align: right;\">\n",
              "      <th></th>\n",
              "      <th>InstanceID</th>\n",
              "      <th>patientID</th>\n",
              "      <th>ImageName</th>\n",
              "      <th>isCancerous</th>\n",
              "    </tr>\n",
              "  </thead>\n",
              "  <tbody>\n",
              "    <tr>\n",
              "      <th>0</th>\n",
              "      <td>12681</td>\n",
              "      <td>61</td>\n",
              "      <td>12681.png</td>\n",
              "      <td>0</td>\n",
              "    </tr>\n",
              "    <tr>\n",
              "      <th>1</th>\n",
              "      <td>12682</td>\n",
              "      <td>61</td>\n",
              "      <td>12682.png</td>\n",
              "      <td>0</td>\n",
              "    </tr>\n",
              "    <tr>\n",
              "      <th>2</th>\n",
              "      <td>12683</td>\n",
              "      <td>61</td>\n",
              "      <td>12683.png</td>\n",
              "      <td>0</td>\n",
              "    </tr>\n",
              "    <tr>\n",
              "      <th>3</th>\n",
              "      <td>12684</td>\n",
              "      <td>61</td>\n",
              "      <td>12684.png</td>\n",
              "      <td>0</td>\n",
              "    </tr>\n",
              "    <tr>\n",
              "      <th>4</th>\n",
              "      <td>12685</td>\n",
              "      <td>61</td>\n",
              "      <td>12685.png</td>\n",
              "      <td>0</td>\n",
              "    </tr>\n",
              "  </tbody>\n",
              "</table>\n",
              "</div>"
            ],
            "text/plain": [
              "   InstanceID  patientID  ImageName  isCancerous\n",
              "0       12681         61  12681.png            0\n",
              "1       12682         61  12682.png            0\n",
              "2       12683         61  12683.png            0\n",
              "3       12684         61  12684.png            0\n",
              "4       12685         61  12685.png            0"
            ]
          },
          "execution_count": 59,
          "metadata": {},
          "output_type": "execute_result"
        }
      ],
      "source": [
        "df1.head()"
      ]
    },
    {
      "cell_type": "code",
      "execution_count": 60,
      "metadata": {
        "colab": {
          "base_uri": "https://localhost:8080/",
          "height": 607
        },
        "id": "6dFLChIo5VQO",
        "outputId": "e445b594-5dc4-43b1-bed2-cf45eb262695"
      },
      "outputs": [
        {
          "data": {
            "image/png": "[encoded data removed]",
            "text/plain": [
              "<Figure size 1200x600 with 6 Axes>"
            ]
          },
          "metadata": {},
          "output_type": "display_data"
        }
      ],
      "source": [
        "image_dir = 'colon_data/patch_images'\n",
        "\n",
        "def display_sample_images(df, num_samples=6):\n",
        "    sample_df = df.sample(n=num_samples)\n",
        "    plt.figure(figsize=(12, 6))\n",
        "\n",
        "    for i, (_, row) in enumerate(sample_df.iterrows()):\n",
        "        img_path = os.path.join(image_dir, row['ImageName'])\n",
        "        img = Image.open(img_path)\n",
        " \n",
        "        # Dynamically build the title\n",
        "        title = f\"Label: {row['isCancerous']}\"\n",
        "        if 'cellTypeName' in row:\n",
        "            title += f\", Type: {row['cellTypeName']}\"\n",
        "\n",
        "        plt.subplot(2, 3, i+1)\n",
        "        plt.imshow(img)\n",
        "        plt.title(title)\n",
        "        plt.axis('off')\n",
        "\n",
        "    plt.tight_layout()\n",
        "    plt.show()\n",
        "\n",
        "\n",
        "# Display samples from main_df(df2)\n",
        "display_sample_images(df2)"
      ]
    },
    {
      "cell_type": "code",
      "execution_count": 61,
      "metadata": {
        "colab": {
          "base_uri": "https://localhost:8080/",
          "height": 607
        },
        "id": "aSAwNch75jVy",
        "outputId": "78615f1b-56cf-4f9f-dbef-89212f736841"
      },
      "outputs": [
        {
          "data": {
            "image/png": "[encoded data removed]",
            "text/plain": [
              "<Figure size 1200x600 with 6 Axes>"
            ]
          },
          "metadata": {},
          "output_type": "display_data"
        }
      ],
      "source": [
        "display_sample_images(df1)"
      ]
    },
    {
      "cell_type": "markdown",
      "metadata": {},
      "source": [
        "# Exploratory Data Analysis"
      ]
    },
    {
      "cell_type": "markdown",
      "metadata": {
        "id": "xAspIWZ5Ql7q"
      },
      "source": [
        "# Relationship Between Cell Type and Cancer Status"
      ]
    },
    {
      "cell_type": "code",
      "execution_count": 62,
      "metadata": {
        "colab": {
          "base_uri": "https://localhost:8080/",
          "height": 607
        },
        "id": "4vtUgbSVQgqj",
        "outputId": "d366fbac-bb23-4aca-8139-3d8d75342a4b"
      },
      "outputs": [
        {
          "data": {
            "image/png": "[encoded data removed]",
            "text/plain": [
              "<Figure size 800x600 with 1 Axes>"
            ]
          },
          "metadata": {},
          "output_type": "display_data"
        }
      ],
      "source": [
        "import seaborn as sns\n",
        "import matplotlib.pyplot as plt\n",
        "\n",
        "plt.figure(figsize=(8, 6))\n",
        "sns.countplot(x='cellTypeName', hue='isCancerous', data=df2)\n",
        "plt.title('Cancerous vs Non-Cancerous by Cell Type')\n",
        "plt.xlabel('Cell Type')\n",
        "plt.ylabel('Count')\n",
        "plt.legend(title='Is Cancerous')\n",
        "plt.xticks(rotation=15)\n",
        "plt.tight_layout()\n",
        "plt.show()"
      ]
    },
    {
      "cell_type": "markdown",
      "metadata": {
        "id": "eJi3-qF-Qff4"
      },
      "source": [
        "### Key Insights\n",
        "\n",
        "The grouped bar chart illustrates the distribution of cancerous (1) and non-cancerous (0) labels across different cell types.\n",
        "\n",
        "- Nearly all **epithelial** cells are labeled as cancerous.\n",
        "- In contrast, **fibroblast**, **inflammatory**, and **others** are predominantly non-cancerous."
      ]
    },
    {
      "cell_type": "markdown",
      "metadata": {},
      "source": [
        "# Distribution of Cancer labels in Main vs Extra Data"
      ]
    },
    {
      "cell_type": "code",
      "execution_count": 63,
      "metadata": {},
      "outputs": [
        {
          "data": {
            "image/png": "[encoded data removed]",
            "text/plain": [
              "<Figure size 1200x500 with 2 Axes>"
            ]
          },
          "metadata": {},
          "output_type": "display_data"
        }
      ],
      "source": [
        "# Check cancerous label distribution in main and extra data\n",
        "fig, axs = plt.subplots(1, 2, figsize=(12, 5))\n",
        "\n",
        "sns.countplot(x='isCancerous', data=df2, ax=axs[0])\n",
        "axs[0].set_title('Main Data: Cancerous Distribution')\n",
        "\n",
        "sns.countplot(x='isCancerous', data=df1, ax=axs[1])\n",
        "axs[1].set_title('Extra Data: Cancerous Distribution')\n",
        "\n",
        "plt.tight_layout()\n",
        "plt.show()\n"
      ]
    },
    {
      "cell_type": "markdown",
      "metadata": {},
      "source": [
        "### Observations\n",
        "The bar charts illustrate the distribution of cancerous (1) and non-cancerous (0) labels in both the Main Data and Extra Data.\n",
        "- In the Main Data, the count of non-cancerous samples (0) is noticeably higher than the count of cancerous samples (1), indicating a class imbalance.\n",
        "- Similar pattern is observed in the Extra Data, where non-cancerous samples are also more prevalent than cancerous ones."
      ]
    },
    {
      "cell_type": "markdown",
      "metadata": {},
      "source": [
        "# Missing Values Check"
      ]
    },
    {
      "cell_type": "code",
      "execution_count": 64,
      "metadata": {},
      "outputs": [
        {
          "name": "stdout",
          "output_type": "stream",
          "text": [
            "Missing values in df2:\n",
            "InstanceID      0\n",
            "patientID       0\n",
            "ImageName       0\n",
            "cellTypeName    0\n",
            "cellType        0\n",
            "isCancerous     0\n",
            "dtype: int64\n",
            "\n",
            "Missing values in df1:\n",
            "InstanceID     0\n",
            "patientID      0\n",
            "ImageName      0\n",
            "isCancerous    0\n",
            "dtype: int64\n"
          ]
        }
      ],
      "source": [
        "print(\"Missing values in df2:\")\n",
        "print(df2.isnull().sum())\n",
        "\n",
        "print(\"\\nMissing values in df1:\")\n",
        "print(df1.isnull().sum())"
      ]
    },
    {
      "cell_type": "markdown",
      "metadata": {},
      "source": [
        "### Result:\n",
        "This displays the count of missing values per column in both the Main Data (df2) and Extra Data (df1).\n",
        "- There are no missings values found in any dataset"
      ]
    },
    {
      "cell_type": "markdown",
      "metadata": {},
      "source": [
        "# Image Shape and Channel Analysis"
      ]
    },
    {
      "cell_type": "code",
      "execution_count": 65,
      "metadata": {},
      "outputs": [
        {
          "name": "stderr",
          "output_type": "stream",
          "text": [
            "100%|██████████| 9896/9896 [01:17<00:00, 126.97it/s]\n"
          ]
        },
        {
          "name": "stdout",
          "output_type": "stream",
          "text": [
            "        Width  Height  Channels\n",
            "count  9896.0  9896.0    9896.0\n",
            "mean     27.0    27.0       3.0\n",
            "std       0.0     0.0       0.0\n",
            "min      27.0    27.0       3.0\n",
            "25%      27.0    27.0       3.0\n",
            "50%      27.0    27.0       3.0\n",
            "75%      27.0    27.0       3.0\n",
            "max      27.0    27.0       3.0\n"
          ]
        },
        {
          "data": {
            "image/png": "[encoded data removed]",
            "text/plain": [
              "<Figure size 640x480 with 1 Axes>"
            ]
          },
          "metadata": {},
          "output_type": "display_data"
        }
      ],
      "source": [
        "from tqdm import tqdm\n",
        "\n",
        "def get_image_shapes(df):\n",
        "    shapes = []\n",
        "    for img_name in tqdm(df['ImageName']):\n",
        "        img_path = os.path.join(image_dir, img_name)\n",
        "        img = Image.open(img_path)\n",
        "        shapes.append(img.size + (len(img.getbands()),))  # (width, height, channels)\n",
        "    return shapes\n",
        "\n",
        "shapes_main = get_image_shapes(df2)\n",
        "shapes_df = pd.DataFrame(shapes_main, columns=['Width', 'Height', 'Channels'])\n",
        "print(shapes_df.describe())\n",
        "\n",
        "sns.countplot(x='Channels', data=shapes_df)\n",
        "plt.title('Image Channel Distribution')\n",
        "plt.show()"
      ]
    },
    {
      "cell_type": "markdown",
      "metadata": {},
      "source": [
        "### Observations\n",
        "This analysis examined the dimensions and channel configuration of all 9,896 images in the dataset using the tqdm progress bar to track processing.\n",
        "- All images have the same dimensions of 27x27 pixels.\n",
        "- Each image has 3 channels, suggesting that they are RGB colour images.\n",
        "- The seaborn countplot of the Channels column shows a single bar at 3, reinforcing that all images are in color and none are grayscale (1 channel) or RGBA (4 channels)."
      ]
    },
    {
      "cell_type": "markdown",
      "metadata": {
        "id": "UrQ-V1D6Eavw"
      },
      "source": [
        "# Class Distribution in Combined Dataset"
      ]
    },
    {
      "cell_type": "code",
      "execution_count": 66,
      "metadata": {
        "colab": {
          "base_uri": "https://localhost:8080/",
          "height": 989
        },
        "id": "3hWyrYClEpkW",
        "outputId": "7ce04d99-31b1-4bc2-b9b9-6eba1ee4dff7"
      },
      "outputs": [
        {
          "data": {
            "image/png": "[encoded data removed]",
            "text/plain": [
              "<Figure size 640x480 with 1 Axes>"
            ]
          },
          "metadata": {},
          "output_type": "display_data"
        },
        {
          "data": {
            "image/png": "[encoded data removed]",
            "text/plain": [
              "<Figure size 640x480 with 1 Axes>"
            ]
          },
          "metadata": {},
          "output_type": "display_data"
        }
      ],
      "source": [
        "sns.countplot(x='isCancerous', data=dfcancer)\n",
        "plt.title('Distribution of Cancerous vs Non-Cancerous Cells')\n",
        "plt.show()\n",
        "\n",
        "# cellType distribution\n",
        "sns.countplot(x='cellTypeName', data=df2)\n",
        "plt.title('Distribution of Cell Types')\n",
        "plt.xticks(rotation=45)\n",
        "plt.show()"
      ]
    },
    {
      "cell_type": "markdown",
      "metadata": {
        "id": "OExE6tAYFiwu"
      },
      "source": [
        "1. ***isCancerous Distribution:***\n",
        "The bar chart for the isCancerous label shows a noticeable class imbalance.\n",
        "\n",
        "The majority of samples are non-cancerous (label 0), accounting for 13211 samples.\n",
        "\n",
        "In contrast, cancerous (label 1) samples total just around 7069.\n",
        "\n",
        "**Implication**: If left unaddressed, this imbalance can cause a binary classifier to be biased toward predicting the majority class (non-cancerous), potentially leading to high accuracy but poor recall for the cancerous class — which is medically critical.\n",
        "\n",
        "2. ***Cell Type Distribution:***\n",
        "The distribution of cellTypeName reveals a moderate class imbalance:\n",
        "\n",
        "The epithelial category is the most represented, with more than 4,000 instances.\n",
        "\n",
        "In contrast, classes such as others and fibroblast have less than 2,000 samples each.\n",
        "\n",
        "**Implication**: In a multi-class classification task, this imbalance may lead the model to favor the dominant class (epithelial), while performing poorly on underrepresented categories. This could negatively impact metrics like the macro F1-score and reduce the model's ability to generalize across all classes."
      ]
    },
    {
      "cell_type": "markdown",
      "metadata": {
        "id": "yZQ4alREkAuV"
      },
      "source": [
        "# **✅ Techniques we will use to Handle Class Imbalance**\n",
        "\n",
        "1.**Data Augmentation (for minority classes):** So what it does is basically it artificially increases the size of underrepresented classes by creating modified versions of their images.\n",
        "\n",
        "2.**Class Weights**: Assign higher importance to minority classes during training.\n",
        "\n",
        "\n",
        "We will deal with the class imbalance later in the codes as before that we wanna deal with the preprocessing first"
      ]
    },
    {
      "cell_type": "markdown",
      "metadata": {
        "id": "HDaLapMblgUg"
      },
      "source": [
        "# **Baseline CNN & Data Preprocessing Experimentation**"
      ]
    },
    {
      "cell_type": "markdown",
      "metadata": {},
      "source": [
        "### Loading Data\n",
        "Since we are developing two distinct machine learning models—one for predicting cell type and another for identifying whether a cell is cancerous—we will first extract only the relevant columns which would be used for predictions (ImageName, isCancerous) from df1 and then append (concatenate) them to df2 so that we have a unified dataset to work with.\n",
        "\n",
        "So we will make 2 dataframes (dfcancer) and another dfcell)"
      ]
    },
    {
      "cell_type": "code",
      "execution_count": 67,
      "metadata": {},
      "outputs": [],
      "source": [
        "dfcancer = pd.concat([df2[['ImageName', 'isCancerous']],df1[['ImageName', 'isCancerous']]],axis = 0)\n",
        "dfcell = df2[['ImageName','cellType']]"
      ]
    },
    {
      "cell_type": "markdown",
      "metadata": {
        "id": "NBGHSuW-IK5G"
      },
      "source": [
        "SPLITTING THE DATASET INTO TRAIN AND TEST dataset(80% training data  ,20% test data)"
      ]
    },
    {
      "cell_type": "code",
      "execution_count": 68,
      "metadata": {
        "id": "EsRDIKACIVji"
      },
      "outputs": [],
      "source": [
        "traindfcancer, testdfcancer = train_test_split(\n",
        "    dfcancer, test_size=0.2, random_state=42, stratify=dfcancer['isCancerous']\n",
        ")\n",
        "traindfcell, testdfcell = train_test_split(\n",
        "    dfcell, test_size=0.2, random_state=42, stratify=dfcell['cellType']\n",
        ")"
      ]
    },
    {
      "cell_type": "markdown",
      "metadata": {},
      "source": [
        "### Preprocessing Functions\n",
        "We define preprocessing options to test:\n",
        "- Grayscale conversion\n",
        "- Gaussian blur\n",
        "- Simple binary segmentation"
      ]
    },
    {
      "cell_type": "code",
      "execution_count": 77,
      "metadata": {},
      "outputs": [],
      "source": [
        "def to_grayscale(img):\n",
        "    return Image.fromarray(np.uint8(img)).convert('L').convert('RGB')\n",
        "\n",
        "def gaussian_blur(img):\n",
        "    from PIL import ImageFilter\n",
        "    return Image.fromarray(np.uint8(img)).filter(ImageFilter.GaussianBlur(1))\n",
        "\n",
        "def simple_threshold_segmentation(img):\n",
        "    grayscale = Image.fromarray(np.uint8(img)).convert('L')\n",
        "    threshold = 128\n",
        "    binary = grayscale.point(lambda p: 255 if p > threshold else 0)\n",
        "    return binary.convert('RGB')"
      ]
    },
    {
      "cell_type": "markdown",
      "metadata": {},
      "source": [
        "### Baseline CNN Model\n",
        "This simple CNN will be used across all experiments to isolate the effect of preprocessing."
      ]
    },
    {
      "cell_type": "code",
      "execution_count": 78,
      "metadata": {},
      "outputs": [],
      "source": [
        "def create_cancer_cnn(input_shape=(27, 27, 3)):\n",
        "    l2 = regularizers.l2(0.001)\n",
        "    model = models.Sequential([\n",
        "        layers.Conv2D(32, (3, 3), activation='relu', kernel_regularizer=l2, input_shape=input_shape),\n",
        "        layers.MaxPooling2D((2, 2)),\n",
        "        layers.Conv2D(64, (3, 3), activation='relu', kernel_regularizer=l2),\n",
        "        layers.MaxPooling2D((2, 2)),\n",
        "        layers.Flatten(),\n",
        "        layers.Dense(128, activation='relu', kernel_regularizer=l2),\n",
        "        layers.Dropout(0.6),\n",
        "        layers.Dense(1, activation='sigmoid')\n",
        "    ])\n",
        "    return model"
      ]
    },
    {
      "cell_type": "markdown",
      "metadata": {},
      "source": [
        "### Evaluation Framework\n",
        "We define a function to apply a preprocessing step, retrain the CNN, and record validation accuracy."
      ]
    },
    {
      "cell_type": "code",
      "execution_count": 79,
      "metadata": {
        "id": "h0D4dttZn7FF"
      },
      "outputs": [],
      "source": [
        "def evaluate_preprocessing(preprocessing_fn, label=\"No Preprocessing\"):\n",
        "    print(f\"\\n--- Testing: {label} ---\")\n",
        "    \n",
        "    def load_images(df):\n",
        "        images = []\n",
        "        for img_name in tqdm(df['ImageName']):\n",
        "            try:\n",
        "                img_path = os.path.join(image_dir, img_name)\n",
        "                img = Image.open(img_path).resize((27, 27))\n",
        "                img = np.array(img)\n",
        "                if preprocessing_fn:\n",
        "                    img = preprocessing_fn(img)\n",
        "                img = np.array(img, dtype=np.float32) / 255.0\n",
        "                images.append(img)\n",
        "            except:\n",
        "                continue\n",
        "        return np.array(images)\n",
        "    \n",
        "    Xtrain = load_images(traindfcancer)\n",
        "    Xtest = load_images(testdfcancer)\n",
        "    ytrain = traindfcancer['isCancerous'].values\n",
        "    ytest = testdfcancer['isCancerous'].values\n",
        "\n",
        "    augment_gen = ImageDataGenerator(...)\n",
        "    val_gen = ImageDataGenerator()\n",
        "\n",
        "    train_gen = augment_gen.flow(Xtrain, ytrain, batch_size=32, shuffle=True)\n",
        "    val_gen_ = val_gen.flow(Xtest, ytest, batch_size=32, shuffle=False)\n",
        "\n",
        "    model = create_cancer_cnn()\n",
        "    model.compile(optimizer=Adam(1e-4), loss='binary_crossentropy', metrics=['accuracy'])\n",
        "\n",
        "    early_stop = EarlyStopping(monitor='val_loss', patience=3, restore_best_weights=True)\n",
        "\n",
        "    class_weights = compute_class_weight('balanced', classes=np.unique(ytrain), y=ytrain)\n",
        "    class_weight_dict = dict(enumerate(class_weights))\n",
        "\n",
        "    history = model.fit(train_gen, validation_data=val_gen_, epochs=15,\n",
        "                        class_weight=class_weight_dict, callbacks=[early_stop], verbose=1)\n",
        "    \n",
        "    val_acc = history.history['val_accuracy'][-1]\n",
        "    print(f\"Final Validation Accuracy with {label}: {val_acc:.4f}\")\n",
        "    return val_acc\n"
      ]
    },
    {
      "cell_type": "markdown",
      "metadata": {},
      "source": [
        "Rewrite - Resizing and converting the images to RGB is not required as that is already the format of the images."
      ]
    },
    {
      "cell_type": "markdown",
      "metadata": {},
      "source": [
        "### Running Preprocessing Experiments\n",
        "Evaluating each preprocessing technique using the baseline CNN."
      ]
    },
    {
      "cell_type": "code",
      "execution_count": 80,
      "metadata": {},
      "outputs": [
        {
          "name": "stdout",
          "output_type": "stream",
          "text": [
            "\n",
            "--- Testing: No Preprocessing ---\n"
          ]
        },
        {
          "name": "stderr",
          "output_type": "stream",
          "text": [
            "100%|██████████| 16224/16224 [00:05<00:00, 3078.25it/s]\n",
            "100%|██████████| 4056/4056 [00:01<00:00, 2760.62it/s]"
          ]
        },
        {
          "name": "stdout",
          "output_type": "stream",
          "text": [
            "Epoch 1/15\n"
          ]
        },
        {
          "name": "stderr",
          "output_type": "stream",
          "text": [
            "\n",
            "c:\\Users\\Vonny\\Desktop\\UNI\\2025\\Machine Learning\\Machine-Learning-cross-check\\Machine-Learning-cross-check\\tf_env\\lib\\site-packages\\keras\\src\\trainers\\data_adapters\\py_dataset_adapter.py:121: UserWarning: Your `PyDataset` class should call `super().__init__(**kwargs)` in its constructor. `**kwargs` can include `workers`, `use_multiprocessing`, `max_queue_size`. Do not pass these arguments to `fit()`, as they will be ignored.\n",
            "  self._warn_if_super_not_called()\n",
            "c:\\Users\\Vonny\\Desktop\\UNI\\2025\\Machine Learning\\Machine-Learning-cross-check\\Machine-Learning-cross-check\\tf_env\\lib\\site-packages\\keras\\src\\legacy\\preprocessing\\image.py:1263: UserWarning: This ImageDataGenerator specifies `featurewise_center`, but it hasn't been fit on any training data. Fit it first by calling `.fit(numpy_data)`.\n",
            "  warnings.warn(\n"
          ]
        },
        {
          "name": "stdout",
          "output_type": "stream",
          "text": [
            "\u001b[1m507/507\u001b[0m \u001b[32m━━━━━━━━━━━━━━━━━━━━\u001b[0m\u001b[37m\u001b[0m \u001b[1m5s\u001b[0m 8ms/step - accuracy: 0.6697 - loss: 0.8376 - val_accuracy: 0.8107 - val_loss: 0.5264\n",
            "Epoch 2/15\n",
            "\u001b[1m507/507\u001b[0m \u001b[32m━━━━━━━━━━━━━━━━━━━━\u001b[0m\u001b[37m\u001b[0m \u001b[1m4s\u001b[0m 7ms/step - accuracy: 0.8134 - loss: 0.5211 - val_accuracy: 0.8378 - val_loss: 0.4623\n",
            "Epoch 3/15\n",
            "\u001b[1m507/507\u001b[0m \u001b[32m━━━━━━━━━━━━━━━━━━━━\u001b[0m\u001b[37m\u001b[0m \u001b[1m5s\u001b[0m 10ms/step - accuracy: 0.8268 - loss: 0.4756 - val_accuracy: 0.8375 - val_loss: 0.4536\n",
            "Epoch 4/15\n",
            "\u001b[1m507/507\u001b[0m \u001b[32m━━━━━━━━━━━━━━━━━━━━\u001b[0m\u001b[37m\u001b[0m \u001b[1m4s\u001b[0m 8ms/step - accuracy: 0.8439 - loss: 0.4483 - val_accuracy: 0.8521 - val_loss: 0.4243\n",
            "Epoch 5/15\n",
            "\u001b[1m507/507\u001b[0m \u001b[32m━━━━━━━━━━━━━━━━━━━━\u001b[0m\u001b[37m\u001b[0m \u001b[1m4s\u001b[0m 8ms/step - accuracy: 0.8439 - loss: 0.4404 - val_accuracy: 0.8185 - val_loss: 0.4688\n",
            "Epoch 6/15\n",
            "\u001b[1m507/507\u001b[0m \u001b[32m━━━━━━━━━━━━━━━━━━━━\u001b[0m\u001b[37m\u001b[0m \u001b[1m5s\u001b[0m 9ms/step - accuracy: 0.8456 - loss: 0.4285 - val_accuracy: 0.8508 - val_loss: 0.4159\n",
            "Epoch 7/15\n",
            "\u001b[1m507/507\u001b[0m \u001b[32m━━━━━━━━━━━━━━━━━━━━\u001b[0m\u001b[37m\u001b[0m \u001b[1m4s\u001b[0m 9ms/step - accuracy: 0.8534 - loss: 0.4081 - val_accuracy: 0.8669 - val_loss: 0.3859\n",
            "Epoch 8/15\n",
            "\u001b[1m507/507\u001b[0m \u001b[32m━━━━━━━━━━━━━━━━━━━━\u001b[0m\u001b[37m\u001b[0m \u001b[1m5s\u001b[0m 10ms/step - accuracy: 0.8577 - loss: 0.4021 - val_accuracy: 0.8580 - val_loss: 0.4062\n",
            "Epoch 9/15\n",
            "\u001b[1m507/507\u001b[0m \u001b[32m━━━━━━━━━━━━━━━━━━━━\u001b[0m\u001b[37m\u001b[0m \u001b[1m4s\u001b[0m 9ms/step - accuracy: 0.8539 - loss: 0.4047 - val_accuracy: 0.8617 - val_loss: 0.3882\n",
            "Epoch 10/15\n",
            "\u001b[1m507/507\u001b[0m \u001b[32m━━━━━━━━━━━━━━━━━━━━\u001b[0m\u001b[37m\u001b[0m \u001b[1m5s\u001b[0m 10ms/step - accuracy: 0.8579 - loss: 0.3916 - val_accuracy: 0.8306 - val_loss: 0.4318\n",
            "Final Validation Accuracy with No Preprocessing: 0.8306\n",
            "\n",
            "--- Testing: Grayscale Conversion ---\n"
          ]
        },
        {
          "name": "stderr",
          "output_type": "stream",
          "text": [
            "100%|██████████| 16224/16224 [00:05<00:00, 2736.55it/s]\n",
            "100%|██████████| 4056/4056 [00:01<00:00, 2913.23it/s]"
          ]
        },
        {
          "name": "stdout",
          "output_type": "stream",
          "text": [
            "Epoch 1/15\n"
          ]
        },
        {
          "name": "stderr",
          "output_type": "stream",
          "text": [
            "\n",
            "c:\\Users\\Vonny\\Desktop\\UNI\\2025\\Machine Learning\\Machine-Learning-cross-check\\Machine-Learning-cross-check\\tf_env\\lib\\site-packages\\keras\\src\\layers\\convolutional\\base_conv.py:107: UserWarning: Do not pass an `input_shape`/`input_dim` argument to a layer. When using Sequential models, prefer using an `Input(shape)` object as the first layer in the model instead.\n",
            "  super().__init__(activity_regularizer=activity_regularizer, **kwargs)\n",
            "c:\\Users\\Vonny\\Desktop\\UNI\\2025\\Machine Learning\\Machine-Learning-cross-check\\Machine-Learning-cross-check\\tf_env\\lib\\site-packages\\keras\\src\\trainers\\data_adapters\\py_dataset_adapter.py:121: UserWarning: Your `PyDataset` class should call `super().__init__(**kwargs)` in its constructor. `**kwargs` can include `workers`, `use_multiprocessing`, `max_queue_size`. Do not pass these arguments to `fit()`, as they will be ignored.\n",
            "  self._warn_if_super_not_called()\n",
            "c:\\Users\\Vonny\\Desktop\\UNI\\2025\\Machine Learning\\Machine-Learning-cross-check\\Machine-Learning-cross-check\\tf_env\\lib\\site-packages\\keras\\src\\legacy\\preprocessing\\image.py:1263: UserWarning: This ImageDataGenerator specifies `featurewise_center`, but it hasn't been fit on any training data. Fit it first by calling `.fit(numpy_data)`.\n",
            "  warnings.warn(\n"
          ]
        },
        {
          "name": "stdout",
          "output_type": "stream",
          "text": [
            "\u001b[1m507/507\u001b[0m \u001b[32m━━━━━━━━━━━━━━━━━━━━\u001b[0m\u001b[37m\u001b[0m \u001b[1m6s\u001b[0m 9ms/step - accuracy: 0.6399 - loss: 0.8634 - val_accuracy: 0.7885 - val_loss: 0.5861\n",
            "Epoch 2/15\n",
            "\u001b[1m507/507\u001b[0m \u001b[32m━━━━━━━━━━━━━━━━━━━━\u001b[0m\u001b[37m\u001b[0m \u001b[1m4s\u001b[0m 9ms/step - accuracy: 0.7700 - loss: 0.5937 - val_accuracy: 0.7964 - val_loss: 0.5390\n",
            "Epoch 3/15\n",
            "\u001b[1m507/507\u001b[0m \u001b[32m━━━━━━━━━━━━━━━━━━━━\u001b[0m\u001b[37m\u001b[0m \u001b[1m4s\u001b[0m 8ms/step - accuracy: 0.7880 - loss: 0.5467 - val_accuracy: 0.8099 - val_loss: 0.5096\n",
            "Epoch 4/15\n",
            "\u001b[1m507/507\u001b[0m \u001b[32m━━━━━━━━━━━━━━━━━━━━\u001b[0m\u001b[37m\u001b[0m \u001b[1m4s\u001b[0m 8ms/step - accuracy: 0.7931 - loss: 0.5298 - val_accuracy: 0.7367 - val_loss: 0.6084\n",
            "Epoch 5/15\n",
            "\u001b[1m507/507\u001b[0m \u001b[32m━━━━━━━━━━━━━━━━━━━━\u001b[0m\u001b[37m\u001b[0m \u001b[1m4s\u001b[0m 8ms/step - accuracy: 0.7971 - loss: 0.5195 - val_accuracy: 0.8020 - val_loss: 0.5077\n",
            "Epoch 6/15\n",
            "\u001b[1m507/507\u001b[0m \u001b[32m━━━━━━━━━━━━━━━━━━━━\u001b[0m\u001b[37m\u001b[0m \u001b[1m4s\u001b[0m 8ms/step - accuracy: 0.8088 - loss: 0.4950 - val_accuracy: 0.7574 - val_loss: 0.5661\n",
            "Epoch 7/15\n",
            "\u001b[1m507/507\u001b[0m \u001b[32m━━━━━━━━━━━━━━━━━━━━\u001b[0m\u001b[37m\u001b[0m \u001b[1m4s\u001b[0m 9ms/step - accuracy: 0.8104 - loss: 0.4914 - val_accuracy: 0.7983 - val_loss: 0.5002\n",
            "Epoch 8/15\n",
            "\u001b[1m507/507\u001b[0m \u001b[32m━━━━━━━━━━━━━━━━━━━━\u001b[0m\u001b[37m\u001b[0m \u001b[1m4s\u001b[0m 7ms/step - accuracy: 0.8087 - loss: 0.4836 - val_accuracy: 0.7897 - val_loss: 0.5144\n",
            "Epoch 9/15\n",
            "\u001b[1m507/507\u001b[0m \u001b[32m━━━━━━━━━━━━━━━━━━━━\u001b[0m\u001b[37m\u001b[0m \u001b[1m5s\u001b[0m 10ms/step - accuracy: 0.8072 - loss: 0.4846 - val_accuracy: 0.7372 - val_loss: 0.5948\n",
            "Epoch 10/15\n",
            "\u001b[1m507/507\u001b[0m \u001b[32m━━━━━━━━━━━━━━━━━━━━\u001b[0m\u001b[37m\u001b[0m \u001b[1m5s\u001b[0m 11ms/step - accuracy: 0.8119 - loss: 0.4734 - val_accuracy: 0.8107 - val_loss: 0.4729\n",
            "Epoch 11/15\n",
            "\u001b[1m507/507\u001b[0m \u001b[32m━━━━━━━━━━━━━━━━━━━━\u001b[0m\u001b[37m\u001b[0m \u001b[1m4s\u001b[0m 8ms/step - accuracy: 0.8124 - loss: 0.4748 - val_accuracy: 0.7786 - val_loss: 0.5182\n",
            "Epoch 12/15\n",
            "\u001b[1m507/507\u001b[0m \u001b[32m━━━━━━━━━━━━━━━━━━━━\u001b[0m\u001b[37m\u001b[0m \u001b[1m5s\u001b[0m 10ms/step - accuracy: 0.8089 - loss: 0.4714 - val_accuracy: 0.8025 - val_loss: 0.4821\n",
            "Epoch 13/15\n",
            "\u001b[1m507/507\u001b[0m \u001b[32m━━━━━━━━━━━━━━━━━━━━\u001b[0m\u001b[37m\u001b[0m \u001b[1m5s\u001b[0m 9ms/step - accuracy: 0.8145 - loss: 0.4624 - val_accuracy: 0.8111 - val_loss: 0.4616\n",
            "Epoch 14/15\n",
            "\u001b[1m507/507\u001b[0m \u001b[32m━━━━━━━━━━━━━━━━━━━━\u001b[0m\u001b[37m\u001b[0m \u001b[1m4s\u001b[0m 8ms/step - accuracy: 0.8218 - loss: 0.4528 - val_accuracy: 0.8062 - val_loss: 0.4738\n",
            "Epoch 15/15\n",
            "\u001b[1m507/507\u001b[0m \u001b[32m━━━━━━━━━━━━━━━━━━━━\u001b[0m\u001b[37m\u001b[0m \u001b[1m5s\u001b[0m 9ms/step - accuracy: 0.8187 - loss: 0.4497 - val_accuracy: 0.8235 - val_loss: 0.4454\n",
            "Final Validation Accuracy with Grayscale Conversion: 0.8235\n",
            "\n",
            "--- Testing: Gaussian Blur ---\n"
          ]
        },
        {
          "name": "stderr",
          "output_type": "stream",
          "text": [
            "100%|██████████| 16224/16224 [00:07<00:00, 2300.99it/s]\n",
            "100%|██████████| 4056/4056 [00:01<00:00, 2204.61it/s]"
          ]
        },
        {
          "name": "stdout",
          "output_type": "stream",
          "text": [
            "Epoch 1/15\n"
          ]
        },
        {
          "name": "stderr",
          "output_type": "stream",
          "text": [
            "\n",
            "c:\\Users\\Vonny\\Desktop\\UNI\\2025\\Machine Learning\\Machine-Learning-cross-check\\Machine-Learning-cross-check\\tf_env\\lib\\site-packages\\keras\\src\\layers\\convolutional\\base_conv.py:107: UserWarning: Do not pass an `input_shape`/`input_dim` argument to a layer. When using Sequential models, prefer using an `Input(shape)` object as the first layer in the model instead.\n",
            "  super().__init__(activity_regularizer=activity_regularizer, **kwargs)\n",
            "c:\\Users\\Vonny\\Desktop\\UNI\\2025\\Machine Learning\\Machine-Learning-cross-check\\Machine-Learning-cross-check\\tf_env\\lib\\site-packages\\keras\\src\\trainers\\data_adapters\\py_dataset_adapter.py:121: UserWarning: Your `PyDataset` class should call `super().__init__(**kwargs)` in its constructor. `**kwargs` can include `workers`, `use_multiprocessing`, `max_queue_size`. Do not pass these arguments to `fit()`, as they will be ignored.\n",
            "  self._warn_if_super_not_called()\n",
            "c:\\Users\\Vonny\\Desktop\\UNI\\2025\\Machine Learning\\Machine-Learning-cross-check\\Machine-Learning-cross-check\\tf_env\\lib\\site-packages\\keras\\src\\legacy\\preprocessing\\image.py:1263: UserWarning: This ImageDataGenerator specifies `featurewise_center`, but it hasn't been fit on any training data. Fit it first by calling `.fit(numpy_data)`.\n",
            "  warnings.warn(\n"
          ]
        },
        {
          "name": "stdout",
          "output_type": "stream",
          "text": [
            "\u001b[1m507/507\u001b[0m \u001b[32m━━━━━━━━━━━━━━━━━━━━\u001b[0m\u001b[37m\u001b[0m \u001b[1m7s\u001b[0m 10ms/step - accuracy: 0.7078 - loss: 0.8098 - val_accuracy: 0.8146 - val_loss: 0.5242\n",
            "Epoch 2/15\n",
            "\u001b[1m507/507\u001b[0m \u001b[32m━━━━━━━━━━━━━━━━━━━━\u001b[0m\u001b[37m\u001b[0m \u001b[1m5s\u001b[0m 9ms/step - accuracy: 0.8179 - loss: 0.5174 - val_accuracy: 0.8375 - val_loss: 0.4597\n",
            "Epoch 3/15\n",
            "\u001b[1m507/507\u001b[0m \u001b[32m━━━━━━━━━━━━━━━━━━━━\u001b[0m\u001b[37m\u001b[0m \u001b[1m5s\u001b[0m 9ms/step - accuracy: 0.8360 - loss: 0.4666 - val_accuracy: 0.8257 - val_loss: 0.4765\n",
            "Epoch 4/15\n",
            "\u001b[1m507/507\u001b[0m \u001b[32m━━━━━━━━━━━━━━━━━━━━\u001b[0m\u001b[37m\u001b[0m \u001b[1m4s\u001b[0m 9ms/step - accuracy: 0.8351 - loss: 0.4591 - val_accuracy: 0.7949 - val_loss: 0.5069\n",
            "Epoch 5/15\n",
            "\u001b[1m507/507\u001b[0m \u001b[32m━━━━━━━━━━━━━━━━━━━━\u001b[0m\u001b[37m\u001b[0m \u001b[1m5s\u001b[0m 9ms/step - accuracy: 0.8455 - loss: 0.4435 - val_accuracy: 0.8464 - val_loss: 0.4357\n",
            "Epoch 6/15\n",
            "\u001b[1m507/507\u001b[0m \u001b[32m━━━━━━━━━━━━━━━━━━━━\u001b[0m\u001b[37m\u001b[0m \u001b[1m5s\u001b[0m 9ms/step - accuracy: 0.8480 - loss: 0.4284 - val_accuracy: 0.8619 - val_loss: 0.4031\n",
            "Epoch 7/15\n",
            "\u001b[1m507/507\u001b[0m \u001b[32m━━━━━━━━━━━━━━━━━━━━\u001b[0m\u001b[37m\u001b[0m \u001b[1m5s\u001b[0m 9ms/step - accuracy: 0.8520 - loss: 0.4236 - val_accuracy: 0.8612 - val_loss: 0.4023\n",
            "Epoch 8/15\n",
            "\u001b[1m507/507\u001b[0m \u001b[32m━━━━━━━━━━━━━━━━━━━━\u001b[0m\u001b[37m\u001b[0m \u001b[1m4s\u001b[0m 8ms/step - accuracy: 0.8532 - loss: 0.4130 - val_accuracy: 0.8570 - val_loss: 0.4087\n",
            "Epoch 9/15\n",
            "\u001b[1m507/507\u001b[0m \u001b[32m━━━━━━━━━━━━━━━━━━━━\u001b[0m\u001b[37m\u001b[0m \u001b[1m5s\u001b[0m 9ms/step - accuracy: 0.8573 - loss: 0.4082 - val_accuracy: 0.8614 - val_loss: 0.3925\n",
            "Epoch 10/15\n",
            "\u001b[1m507/507\u001b[0m \u001b[32m━━━━━━━━━━━━━━━━━━━━\u001b[0m\u001b[37m\u001b[0m \u001b[1m4s\u001b[0m 9ms/step - accuracy: 0.8555 - loss: 0.4055 - val_accuracy: 0.8651 - val_loss: 0.3954\n",
            "Epoch 11/15\n",
            "\u001b[1m507/507\u001b[0m \u001b[32m━━━━━━━━━━━━━━━━━━━━\u001b[0m\u001b[37m\u001b[0m \u001b[1m5s\u001b[0m 9ms/step - accuracy: 0.8566 - loss: 0.3973 - val_accuracy: 0.8516 - val_loss: 0.4041\n",
            "Epoch 12/15\n",
            "\u001b[1m507/507\u001b[0m \u001b[32m━━━━━━━━━━━━━━━━━━━━\u001b[0m\u001b[37m\u001b[0m \u001b[1m5s\u001b[0m 10ms/step - accuracy: 0.8661 - loss: 0.3812 - val_accuracy: 0.8794 - val_loss: 0.3641\n",
            "Epoch 13/15\n",
            "\u001b[1m507/507\u001b[0m \u001b[32m━━━━━━━━━━━━━━━━━━━━\u001b[0m\u001b[37m\u001b[0m \u001b[1m5s\u001b[0m 9ms/step - accuracy: 0.8536 - loss: 0.3966 - val_accuracy: 0.8787 - val_loss: 0.3583\n",
            "Epoch 14/15\n",
            "\u001b[1m507/507\u001b[0m \u001b[32m━━━━━━━━━━━━━━━━━━━━\u001b[0m\u001b[37m\u001b[0m \u001b[1m5s\u001b[0m 9ms/step - accuracy: 0.8622 - loss: 0.3836 - val_accuracy: 0.8780 - val_loss: 0.3565\n",
            "Epoch 15/15\n",
            "\u001b[1m507/507\u001b[0m \u001b[32m━━━━━━━━━━━━━━━━━━━━\u001b[0m\u001b[37m\u001b[0m \u001b[1m4s\u001b[0m 8ms/step - accuracy: 0.8647 - loss: 0.3778 - val_accuracy: 0.8102 - val_loss: 0.4556\n",
            "Final Validation Accuracy with Gaussian Blur: 0.8102\n",
            "\n",
            "--- Testing: Simple Threshold Segmentation ---\n"
          ]
        },
        {
          "name": "stderr",
          "output_type": "stream",
          "text": [
            "100%|██████████| 16224/16224 [00:08<00:00, 1808.86it/s]\n",
            "100%|██████████| 4056/4056 [00:01<00:00, 2060.35it/s]"
          ]
        },
        {
          "name": "stdout",
          "output_type": "stream",
          "text": [
            "Epoch 1/15\n"
          ]
        },
        {
          "name": "stderr",
          "output_type": "stream",
          "text": [
            "\n",
            "c:\\Users\\Vonny\\Desktop\\UNI\\2025\\Machine Learning\\Machine-Learning-cross-check\\Machine-Learning-cross-check\\tf_env\\lib\\site-packages\\keras\\src\\layers\\convolutional\\base_conv.py:107: UserWarning: Do not pass an `input_shape`/`input_dim` argument to a layer. When using Sequential models, prefer using an `Input(shape)` object as the first layer in the model instead.\n",
            "  super().__init__(activity_regularizer=activity_regularizer, **kwargs)\n",
            "c:\\Users\\Vonny\\Desktop\\UNI\\2025\\Machine Learning\\Machine-Learning-cross-check\\Machine-Learning-cross-check\\tf_env\\lib\\site-packages\\keras\\src\\trainers\\data_adapters\\py_dataset_adapter.py:121: UserWarning: Your `PyDataset` class should call `super().__init__(**kwargs)` in its constructor. `**kwargs` can include `workers`, `use_multiprocessing`, `max_queue_size`. Do not pass these arguments to `fit()`, as they will be ignored.\n",
            "  self._warn_if_super_not_called()\n",
            "c:\\Users\\Vonny\\Desktop\\UNI\\2025\\Machine Learning\\Machine-Learning-cross-check\\Machine-Learning-cross-check\\tf_env\\lib\\site-packages\\keras\\src\\legacy\\preprocessing\\image.py:1263: UserWarning: This ImageDataGenerator specifies `featurewise_center`, but it hasn't been fit on any training data. Fit it first by calling `.fit(numpy_data)`.\n",
            "  warnings.warn(\n"
          ]
        },
        {
          "name": "stdout",
          "output_type": "stream",
          "text": [
            "\u001b[1m507/507\u001b[0m \u001b[32m━━━━━━━━━━━━━━━━━━━━\u001b[0m\u001b[37m\u001b[0m \u001b[1m6s\u001b[0m 9ms/step - accuracy: 0.6605 - loss: 0.8409 - val_accuracy: 0.7786 - val_loss: 0.6488\n",
            "Epoch 2/15\n",
            "\u001b[1m507/507\u001b[0m \u001b[32m━━━━━━━━━━━━━━━━━━━━\u001b[0m\u001b[37m\u001b[0m \u001b[1m5s\u001b[0m 10ms/step - accuracy: 0.7727 - loss: 0.6447 - val_accuracy: 0.7808 - val_loss: 0.6163\n",
            "Epoch 3/15\n",
            "\u001b[1m507/507\u001b[0m \u001b[32m━━━━━━━━━━━━━━━━━━━━\u001b[0m\u001b[37m\u001b[0m \u001b[1m4s\u001b[0m 9ms/step - accuracy: 0.7935 - loss: 0.6035 - val_accuracy: 0.7857 - val_loss: 0.5947\n",
            "Epoch 4/15\n",
            "\u001b[1m507/507\u001b[0m \u001b[32m━━━━━━━━━━━━━━━━━━━━\u001b[0m\u001b[37m\u001b[0m \u001b[1m5s\u001b[0m 9ms/step - accuracy: 0.7927 - loss: 0.5935 - val_accuracy: 0.7781 - val_loss: 0.5952\n",
            "Epoch 5/15\n",
            "\u001b[1m507/507\u001b[0m \u001b[32m━━━━━━━━━━━━━━━━━━━━\u001b[0m\u001b[37m\u001b[0m \u001b[1m5s\u001b[0m 10ms/step - accuracy: 0.7963 - loss: 0.5700 - val_accuracy: 0.8062 - val_loss: 0.5497\n",
            "Epoch 6/15\n",
            "\u001b[1m507/507\u001b[0m \u001b[32m━━━━━━━━━━━━━━━━━━━━\u001b[0m\u001b[37m\u001b[0m \u001b[1m5s\u001b[0m 9ms/step - accuracy: 0.8034 - loss: 0.5532 - val_accuracy: 0.7707 - val_loss: 0.5899\n",
            "Epoch 7/15\n",
            "\u001b[1m507/507\u001b[0m \u001b[32m━━━━━━━━━━━━━━━━━━━━\u001b[0m\u001b[37m\u001b[0m \u001b[1m4s\u001b[0m 8ms/step - accuracy: 0.7961 - loss: 0.5520 - val_accuracy: 0.7909 - val_loss: 0.5472\n",
            "Epoch 8/15\n",
            "\u001b[1m507/507\u001b[0m \u001b[32m━━━━━━━━━━━━━━━━━━━━\u001b[0m\u001b[37m\u001b[0m \u001b[1m5s\u001b[0m 9ms/step - accuracy: 0.8044 - loss: 0.5288 - val_accuracy: 0.7946 - val_loss: 0.5423\n",
            "Epoch 9/15\n",
            "\u001b[1m507/507\u001b[0m \u001b[32m━━━━━━━━━━━━━━━━━━━━\u001b[0m\u001b[37m\u001b[0m \u001b[1m5s\u001b[0m 9ms/step - accuracy: 0.8094 - loss: 0.5217 - val_accuracy: 0.8109 - val_loss: 0.5128\n",
            "Epoch 10/15\n",
            "\u001b[1m507/507\u001b[0m \u001b[32m━━━━━━━━━━━━━━━━━━━━\u001b[0m\u001b[37m\u001b[0m \u001b[1m4s\u001b[0m 8ms/step - accuracy: 0.8086 - loss: 0.5156 - val_accuracy: 0.7562 - val_loss: 0.5974\n",
            "Epoch 11/15\n",
            "\u001b[1m507/507\u001b[0m \u001b[32m━━━━━━━━━━━━━━━━━━━━\u001b[0m\u001b[37m\u001b[0m \u001b[1m5s\u001b[0m 9ms/step - accuracy: 0.8120 - loss: 0.5056 - val_accuracy: 0.7872 - val_loss: 0.5313\n",
            "Epoch 12/15\n",
            "\u001b[1m507/507\u001b[0m \u001b[32m━━━━━━━━━━━━━━━━━━━━\u001b[0m\u001b[37m\u001b[0m \u001b[1m5s\u001b[0m 10ms/step - accuracy: 0.8131 - loss: 0.4968 - val_accuracy: 0.7880 - val_loss: 0.5274\n",
            "Final Validation Accuracy with Simple Threshold Segmentation: 0.7880\n"
          ]
        }
      ],
      "source": [
        "results = {}\n",
        "results['baseline'] = evaluate_preprocessing(None, label=\"No Preprocessing\")\n",
        "results['grayscale'] = evaluate_preprocessing(to_grayscale, label=\"Grayscale Conversion\")\n",
        "results['gaussian_blur'] = evaluate_preprocessing(gaussian_blur, label=\"Gaussian Blur\")\n",
        "results['segmentation'] = evaluate_preprocessing(simple_threshold_segmentation, label=\"Simple Threshold Segmentation\")"
      ]
    },
    {
      "cell_type": "code",
      "execution_count": 81,
      "metadata": {},
      "outputs": [
        {
          "name": "stdout",
          "output_type": "stream",
          "text": [
            "\n",
            "Comparison Results:\n",
            "baseline: 0.8306\n",
            "grayscale: 0.8235\n",
            "gaussian_blur: 0.8102\n",
            "segmentation: 0.7880\n"
          ]
        }
      ],
      "source": [
        "print(\"\\nComparison Results:\")\n",
        "for key, val in results.items():\n",
        "    print(f\"{key}: {val:.4f}\")\n"
      ]
    },
    {
      "cell_type": "markdown",
      "metadata": {
        "id": "2ih2MozYpGXS"
      },
      "source": [
        "# Model for Binary Classification(isCancerous)"
      ]
    },
    {
      "cell_type": "code",
      "execution_count": null,
      "metadata": {
        "colab": {
          "base_uri": "https://localhost:8080/"
        },
        "id": "vNXhJZ0ST3Fc",
        "outputId": "7a904f84-b795-4656-933a-ae18b3a70735"
      },
      "outputs": [],
      "source": [
        "#from tensorflow.keras import layers, models, regularizers\n",
        "\n",
        "#def create_cancer_cnn(input_shape=(27, 27, 3)):\n",
        "    #l2 = regularizers.l2(0.001)  # L2 regularization strength\n",
        "\n",
        "    #model = models.Sequential()\n",
        "\n",
        "    #model.add(layers.Conv2D(32, (3, 3), activation='relu', kernel_regularizer=l2, input_shape=input_shape))\n",
        "    #model.add(layers.MaxPooling2D((2, 2)))\n",
        "\n",
        "    #model.add(layers.Conv2D(64, (3, 3), activation='relu', kernel_regularizer=l2))\n",
        "    #model.add(layers.MaxPooling2D((2, 2)))\n",
        "\n",
        "    #model.add(layers.Flatten())\n",
        "    #model.add(layers.Dense(128, activation='relu', kernel_regularizer=l2))\n",
        "    #model.add(layers.Dropout(0.6))  # Still keeping dropout for extra regularization\n",
        "\n",
        "    #model.add(layers.Dense(1, activation='sigmoid'))  # Binary classification\n",
        "\n",
        "    #return model\n",
        "\n",
        "#model = create_cancer_cnn()"
      ]
    },
    {
      "cell_type": "code",
      "execution_count": null,
      "metadata": {
        "id": "lcr8TauwT5sa"
      },
      "outputs": [],
      "source": [
        "#from tensorflow.keras.optimizers import Adam\n",
        "#from tensorflow.keras import regularizers\n",
        "\n",
        "#model.compile(\n",
        "    #optimizer=Adam(learning_rate=1e-4),  # smaller learning rate for stability\n",
        "    #loss='binary_crossentropy',\n",
        "    #metrics=['accuracy']\n",
        "#)"
      ]
    },
    {
      "cell_type": "code",
      "execution_count": null,
      "metadata": {
        "id": "hfPINI-pUBJE"
      },
      "outputs": [],
      "source": [
        "#from sklearn.utils.class_weight import compute_class_weight\n",
        "#import numpy as np\n",
        "\n",
        "#class_weights = compute_class_weight('balanced', classes=np.unique(ycancertrain), y=ycancertrain)\n",
        "#class_weight_dict = dict(enumerate(class_weights))"
      ]
    },
    {
      "cell_type": "code",
      "execution_count": null,
      "metadata": {
        "id": "huUMtAkdV2ll"
      },
      "outputs": [],
      "source": [
        "#from tensorflow.keras.callbacks import EarlyStopping\n",
        "#early_stop = EarlyStopping(\n",
        "    #monitor='val_loss',      # You can also monitor 'val_accuracy'\n",
        "    #patience=3,              # Stop if no improvement for 3 epochs\n",
        "    #restore_best_weights=True  # Roll back to best model\n",
        "#)"
      ]
    },
    {
      "cell_type": "code",
      "execution_count": null,
      "metadata": {
        "colab": {
          "base_uri": "https://localhost:8080/"
        },
        "id": "DIRQzAFsT7l5",
        "outputId": "c359fc58-685c-4592-82ea-98915a340c49"
      },
      "outputs": [],
      "source": [
        "#history = model.fit(\n",
        "    #train_gen,\n",
        "    #validation_data=val_gen,\n",
        "    #epochs=15,\n",
        "    #class_weight=class_weight_dict,\n",
        "    #callbacks=[early_stop]# optional but recommended\n",
        "#)"
      ]
    },
    {
      "cell_type": "markdown",
      "metadata": {},
      "source": [
        "Testing preprocessing"
      ]
    },
    {
      "cell_type": "markdown",
      "metadata": {
        "id": "F28R9m47s_bf"
      },
      "source": [
        "# **Evaluation**"
      ]
    },
    {
      "cell_type": "code",
      "execution_count": null,
      "metadata": {
        "colab": {
          "base_uri": "https://localhost:8080/",
          "height": 887
        },
        "id": "uJ3N9JUmT-lY",
        "outputId": "fb99f00e-e975-41ed-dc27-fde7d62b19d9"
      },
      "outputs": [],
      "source": [
        "import matplotlib.pyplot as plt\n",
        "\n",
        "# Accuracy\n",
        "plt.plot(history.history['accuracy'], label='Train Accuracy')\n",
        "plt.plot(history.history['val_accuracy'], label='Val Accuracy')\n",
        "plt.legend()\n",
        "plt.title('Accuracy Over Epochs')\n",
        "plt.show()\n",
        "\n",
        "# Loss\n",
        "plt.plot(history.history['loss'], label='Train Loss')\n",
        "plt.plot(history.history['val_loss'], label='Val Loss')\n",
        "plt.legend()\n",
        "plt.title('Loss Over Epochs')\n",
        "plt.show()\n"
      ]
    },
    {
      "cell_type": "code",
      "execution_count": null,
      "metadata": {
        "colab": {
          "base_uri": "https://localhost:8080/",
          "height": 618
        },
        "id": "QCZtDf8HVnC7",
        "outputId": "63227fde-0ddf-4a28-b5d0-4fdb19a2f0e2"
      },
      "outputs": [],
      "source": [
        "from sklearn.metrics import confusion_matrix, classification_report\n",
        "import seaborn as sns\n",
        "import matplotlib.pyplot as plt\n",
        "import numpy as np\n",
        "\n",
        "# Step 1: Predict on test data\n",
        "y_pred_probs = model.predict(Xcancertest)\n",
        "y_pred = (y_pred_probs > 0.5).astype(\"int32\").flatten()  # Convert probabilities to 0 or 1\n",
        "\n",
        "# Step 2: Confusion Matrix\n",
        "cm = confusion_matrix(ycancertest, y_pred)\n",
        "\n",
        "# Plot Confusion Matrix\n",
        "plt.figure(figsize=(6,4))\n",
        "sns.heatmap(cm, annot=True, fmt='d', cmap='Blues', xticklabels=['Not Cancer', 'Cancer'], yticklabels=['Not Cancer', 'Cancer'])\n",
        "plt.title('Confusion Matrix')\n",
        "plt.xlabel('Predicted')\n",
        "plt.ylabel('Actual')\n",
        "plt.show()\n",
        "\n",
        "# Step 3: Classification Report\n",
        "print(\"Classification Report:\\n\")\n",
        "print(classification_report(ycancertest, y_pred, target_names=['Not Cancer', 'Cancer']))\n"
      ]
    },
    {
      "cell_type": "markdown",
      "metadata": {
        "id": "3xe7SLsGp5la"
      },
      "source": [
        "## Model For multi-class cell type classification"
      ]
    },
    {
      "cell_type": "code",
      "execution_count": null,
      "metadata": {
        "id": "UQEZo-CrqIk-"
      },
      "outputs": [],
      "source": [
        "from tensorflow.keras.preprocessing.image import ImageDataGenerator\n",
        "\n",
        "train_gen = ImageDataGenerator(\n",
        "    rotation_range=20,\n",
        "    width_shift_range=0.1,\n",
        "    height_shift_range=0.1,\n",
        "    zoom_range=0.2,\n",
        "    horizontal_flip=True,\n",
        "    vertical_flip=True\n",
        ")\n",
        "\n",
        "val_gen = ImageDataGenerator()\n",
        "\n",
        "from tensorflow.keras.utils import to_categorical\n",
        "\n",
        "# One-hot encode labels\n",
        "ycelltrain_cat = to_categorical(ycelltrain, num_classes=4)\n",
        "ycelltest_cat = to_categorical(ycelltest, num_classes=4)\n",
        "\n",
        "# Now generate flows\n",
        "train_flow = train_gen.flow(Xcelltrain, ycelltrain_cat, batch_size=32, shuffle=True)\n",
        "val_flow = val_gen.flow(Xcelltest, ycelltest_cat, batch_size=32, shuffle=False)"
      ]
    },
    {
      "cell_type": "code",
      "execution_count": null,
      "metadata": {
        "id": "Lx462hVSrBzX"
      },
      "outputs": [],
      "source": [
        "from tensorflow.keras import layers, models, regularizers\n",
        "\n",
        "def create_celltype_cnn(input_shape=(27, 27, 3), num_classes=4):\n",
        "    l2 = regularizers.l2(0.001)\n",
        "\n",
        "    model = models.Sequential()\n",
        "    model.add(layers.Conv2D(32, (3, 3), activation='relu', kernel_regularizer=l2, input_shape=input_shape))\n",
        "    model.add(layers.MaxPooling2D((2, 2)))\n",
        "\n",
        "    model.add(layers.Conv2D(64, (3, 3), activation='relu', kernel_regularizer=l2))\n",
        "    model.add(layers.MaxPooling2D((2, 2)))\n",
        "\n",
        "    model.add(layers.Flatten())\n",
        "    model.add(layers.Dense(128, activation='relu', kernel_regularizer=l2))\n",
        "    model.add(layers.Dropout(0.5))\n",
        "    model.add(layers.Dense(num_classes, activation='softmax'))  # Multi-class\n",
        "\n",
        "    return model\n",
        "\n",
        "model2 = create_celltype_cnn()"
      ]
    },
    {
      "cell_type": "code",
      "execution_count": null,
      "metadata": {
        "id": "tn9F-F8ArD5C"
      },
      "outputs": [],
      "source": [
        "from tensorflow.keras.optimizers import Adam\n",
        "\n",
        "model2.compile(\n",
        "    optimizer=Adam(learning_rate=1e-4),\n",
        "    loss='categorical_crossentropy',\n",
        "    metrics=['accuracy']\n",
        ")"
      ]
    },
    {
      "cell_type": "code",
      "execution_count": null,
      "metadata": {
        "colab": {
          "base_uri": "https://localhost:8080/"
        },
        "id": "et_6jZuGrFvM",
        "outputId": "b5916ede-1b5c-4c08-98bf-2018fe27ab89"
      },
      "outputs": [],
      "source": [
        "from tensorflow.keras.callbacks import EarlyStopping\n",
        "\n",
        "early_stop = EarlyStopping(monitor='val_loss', patience=3, restore_best_weights=True)\n",
        "\n",
        "history2 = model2.fit(\n",
        "    train_flow,\n",
        "    validation_data=val_flow,\n",
        "    epochs=30,\n",
        "    callbacks=[early_stop]\n",
        ")"
      ]
    },
    {
      "cell_type": "code",
      "execution_count": null,
      "metadata": {
        "colab": {
          "base_uri": "https://localhost:8080/"
        },
        "id": "RY8VgoKurHS9",
        "outputId": "eeb52e52-fd7a-405d-e68b-198a9117fbd9"
      },
      "outputs": [],
      "source": [
        "# Get model predictions\n",
        "y_pred_probs = model2.predict(Xcelltest)\n",
        "y_pred_classes = np.argmax(y_pred_probs, axis=1)  # Convert probabilities to class labels\n",
        "y_true_classes = np.argmax(ycelltest_cat, axis=1)  # True labels"
      ]
    },
    {
      "cell_type": "code",
      "execution_count": null,
      "metadata": {
        "colab": {
          "base_uri": "https://localhost:8080/",
          "height": 507
        },
        "id": "cKjzImdBtDwv",
        "outputId": "8c9423b3-45a2-4183-95e3-a0beebe5b72e"
      },
      "outputs": [],
      "source": [
        "cm = confusion_matrix(y_true_classes, y_pred_classes)\n",
        "\n",
        "# Plot confusion matrix\n",
        "plt.figure(figsize=(6, 5))\n",
        "sns.heatmap(cm, annot=True, fmt='d', cmap='Blues',\n",
        "            xticklabels=['fibroblast', 'inflammatory', 'epithelial', 'others'],\n",
        "            yticklabels=['fibroblast', 'inflammatory', 'epithelial', 'others'])\n",
        "plt.xlabel('Predicted')\n",
        "plt.ylabel('Actual')\n",
        "plt.title('Confusion Matrix - Cell Type Prediction')\n",
        "plt.tight_layout()\n",
        "plt.show()"
      ]
    },
    {
      "cell_type": "code",
      "execution_count": null,
      "metadata": {
        "colab": {
          "base_uri": "https://localhost:8080/"
        },
        "id": "3naN1xQKtGuV",
        "outputId": "23041499-aedc-40c4-8211-b4bd767146f0"
      },
      "outputs": [],
      "source": [
        "# Print classification report\n",
        "print(\"Classification Report:\\n\")\n",
        "print(classification_report(\n",
        "    y_true_classes,\n",
        "    y_pred_classes,\n",
        "    target_names=['fibroblast', 'inflammatory', 'epithelial', 'others']\n",
        "))\n"
      ]
    },
    {
      "cell_type": "markdown",
      "metadata": {
        "id": "dhOeO9GHuO21"
      },
      "source": [
        "⚠️ Key Observations\n",
        "Class \"others\" is frequently misclassified, especially as inflammatory and fibroblast.\n",
        "\n",
        "Confusion matrix shows heavy misclassification of \"others\" as inflammatory — suggests they share similar features in images.\n",
        "\n",
        "Macro F1-score is 0.60, pulled down by the poor performance on the \"others\" class."
      ]
    },
    {
      "cell_type": "code",
      "execution_count": null,
      "metadata": {
        "id": "bfSgP8dZtOAt"
      },
      "outputs": [],
      "source": []
    }
  ],
  "metadata": {
    "accelerator": "GPU",
    "colab": {
      "gpuType": "T4",
      "provenance": []
    },
    "kernelspec": {
      "display_name": "tf_env",
      "language": "python",
      "name": "python3"
    },
    "language_info": {
      "codemirror_mode": {
        "name": "ipython",
        "version": 3
      },
      "file_extension": ".py",
      "mimetype": "text/x-python",
      "name": "python",
      "nbconvert_exporter": "python",
      "pygments_lexer": "ipython3",
      "version": "3.10.0"
    }
  },
  "nbformat": 4,
  "nbformat_minor": 0
}
